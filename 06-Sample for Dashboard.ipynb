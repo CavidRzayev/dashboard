{
 "cells": [
  {
   "cell_type": "code",
   "execution_count": null,
   "id": "956c9692",
   "metadata": {},
   "outputs": [],
   "source": [
    "from joblib import dump, load\n",
    "from xgboost import XGBClassifier\n",
    "from explainerdashboard import ClassifierExplainer, ExplainerDashboard\n",
    "import pandas as pd\n",
    "import numpy as np"
   ]
  },
  {
   "cell_type": "code",
   "execution_count": null,
   "id": "aca68661",
   "metadata": {},
   "outputs": [],
   "source": [
    "xgmodel=load(\"xgbst_model\")"
   ]
  },
  {
   "cell_type": "code",
   "execution_count": null,
   "id": "6a993b1a",
   "metadata": {},
   "outputs": [],
   "source": [
    "X_val=pd.read_feather('X_val.fthr')\n",
    "y_val=pd.read_feather('y_val.fthr')"
   ]
  },
  {
   "cell_type": "code",
   "execution_count": null,
   "id": "60ca317d",
   "metadata": {},
   "outputs": [],
   "source": [
    "total_Sample=X_val.shape[0]\n",
    "sample_count=10000\n",
    "sample_index=np.random.randint(0,total_Sample,sample_count)\n",
    "explainer = ClassifierExplainer(xgmodel, X_val.iloc[sample_index], y_val.iloc[sample_index])\n",
    "ExplainerDashboard(explainer).run()"
   ]
  }
 ],
 "metadata": {
  "kernelspec": {
   "display_name": "Python 3.10.8 64-bit",
   "language": "python",
   "name": "python3"
  },
  "language_info": {
   "codemirror_mode": {
    "name": "ipython",
    "version": 3
   },
   "file_extension": ".py",
   "mimetype": "text/x-python",
   "name": "python",
   "nbconvert_exporter": "python",
   "pygments_lexer": "ipython3",
   "version": "3.10.8"
  },
  "vscode": {
   "interpreter": {
    "hash": "8f9328efe3468e6c370cdfed98702d3986faf748314d5bcec59da615d65baa7a"
   }
  }
 },
 "nbformat": 4,
 "nbformat_minor": 5
}
